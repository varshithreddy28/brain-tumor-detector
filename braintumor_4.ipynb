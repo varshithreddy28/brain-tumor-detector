{
  "cells": [
    {
      "cell_type": "code",
      "execution_count": 1,
      "metadata": {
        "colab": {
          "base_uri": "https://localhost:8080/"
        },
        "id": "4irAHdu7vPBk",
        "outputId": "6ca49d93-5861-4f1b-a956-5e75da04cffc"
      },
      "outputs": [
        {
          "output_type": "stream",
          "name": "stdout",
          "text": [
            "Drive already mounted at /content/drive; to attempt to forcibly remount, call drive.mount(\"/content/drive\", force_remount=True).\n"
          ]
        }
      ],
      "source": [
        "from google.colab import drive\n",
        "drive.mount('/content/drive')"
      ]
    },
    {
      "cell_type": "code",
      "execution_count": 2,
      "metadata": {
        "id": "tfcBJypoAygw"
      },
      "outputs": [],
      "source": [
        "import numpy as np\n",
        "from keras.models import Model\n",
        "from keras.layers import Input, Flatten, Conv2D, MaxPooling2D, BatchNormalization, Dense, ZeroPadding2D, Activation,Dropout\n",
        "import cv2\n",
        "from sklearn.utils import shuffle\n",
        "from sklearn.model_selection import train_test_split\n",
        "from sklearn.metrics import confusion_matrix, accuracy_score\n",
        "import warnings\n",
        "from os import *\n",
        "warnings.filterwarnings('ignore')"
      ]
    },
    {
      "cell_type": "code",
      "execution_count": 3,
      "metadata": {
        "id": "YpC14nxAAmsf"
      },
      "outputs": [],
      "source": [
        "x = []\n",
        "y = []\n",
        "for directory in ['/content/drive/MyDrive/augmented data/yes', '/content/drive/MyDrive/augmented data/no']:\n",
        "    for filename in listdir(directory):\n",
        "        image = cv2.imread(directory + '/' + filename)\n",
        "        image = cv2.resize(image, dsize=(240,240), interpolation=cv2.INTER_CUBIC)\n",
        "        image = image / 255.\n",
        "        x.append(image)\n",
        "        if directory[-3:] == 'yes':\n",
        "            y.append([1])\n",
        "        else:\n",
        "            y.append([0])"
      ]
    },
    {
      "cell_type": "code",
      "execution_count": 14,
      "metadata": {
        "id": "wAEO-6rJvnnG"
      },
      "outputs": [],
      "source": [
        "# import pandas as pd\n",
        "# data = pd.read_csv('/content/drive/MyDrive/augmented data')"
      ]
    },
    {
      "cell_type": "code",
      "execution_count": 4,
      "metadata": {
        "colab": {
          "base_uri": "https://localhost:8080/"
        },
        "id": "D3izIueuvIBH",
        "outputId": "6a14b972-56ec-4cd2-b789-53c17e03a914"
      },
      "outputs": [
        {
          "output_type": "stream",
          "name": "stdout",
          "text": [
            "Number of samples : 2040\n",
            "x shape : (2040, 240, 240, 3)\n",
            "y shape : (2040, 1)\n"
          ]
        }
      ],
      "source": [
        "x = np.array(x)\n",
        "y = np.array(y)\n",
        "x, y = shuffle(x, y)\n",
        "\n",
        "print(f'Number of samples : {len(x)}')\n",
        "print(f'x shape : {x.shape}')\n",
        "print(f'y shape : {y.shape}')"
      ]
    },
    {
      "cell_type": "code",
      "execution_count": 5,
      "metadata": {
        "id": "uDEdtd9qvIBI"
      },
      "outputs": [],
      "source": [
        "xtrain, xtest, ytrain, ytest = train_test_split(x, y, test_size=0.15, random_state=101)"
      ]
    },
    {
      "cell_type": "code",
      "execution_count": 6,
      "metadata": {
        "id": "Kwpbp5Zhvlal"
      },
      "outputs": [],
      "source": [
        "from keras.callbacks import EarlyStopping, ModelCheckpoint, ReduceLROnPlateau\n",
        "\n",
        "earlyStopping = EarlyStopping(monitor='val_loss', patience=10, verbose=0, mode='min')\n",
        "mcp_save = ModelCheckpoint('BrainTumorModelv3_3colab.h5', save_best_only=True, monitor='val_loss', mode='min')\n",
        "# reduce_lr_loss = ReduceLROnPlateau(monitor='val_loss', factor=0.1, patience=7, verbose=1, epsilon=1e-4, mode='min')"
      ]
    },
    {
      "cell_type": "code",
      "execution_count": 7,
      "metadata": {
        "id": "i9R4UIRQvIBJ"
      },
      "outputs": [],
      "source": [
        "input = Input((240, 240, 3))\n",
        "model = ZeroPadding2D((2, 2))(input)\n",
        "# model = Conv2D(32, (7, 7), strides=(1, 1), name='conv0')(model)\n",
        "# model = MaxPooling2D((4, 4), name='max_pool0')(model)\n",
        "model = BatchNormalization(axis=3, name='bn0')(model)\n",
        "model = Activation('relu')(model)\n",
        "# model = Conv2D(64, (7, 7), strides=(1, 1), name='conv1')(model)\n",
        "# model = MaxPooling2D((4, 4), name='max_pool1')(model)\n",
        "\n",
        "model = Conv2D(128, (7, 7), strides=(1, 1), name='conv2')(model)\n",
        "model = MaxPooling2D((4, 4), name='max_pool2')(model)\n",
        "model = Conv2D(64, (7, 7), strides=(1, 1), name='conv1')(model)\n",
        "model = MaxPooling2D((4, 4), name='max_pool1')(model)\n",
        "model = Conv2D(32, (7, 7), strides=(1, 1), name='conv0')(model)\n",
        "model = MaxPooling2D((4, 4), name='max_pool0')(model)\n",
        "\n",
        "# model = MaxPooling2D((4, 4), name='max_pool0')(model)\n",
        "# model = MaxPooling2D((4, 4), name='max_pool1')(model)\n",
        "model = Flatten()(model)\n",
        "model = Dense(16, activation='relu')(model)\n",
        "model = Dense(1, activation='sigmoid', name='fc')(model)\n",
        "model = Model(inputs=input, outputs=model, name='BrainTumorDetection')\n",
        "model.compile(optimizer='adam', loss='binary_crossentropy',\n",
        "              metrics=['accuracy'])"
      ]
    },
    {
      "cell_type": "code",
      "execution_count": 8,
      "metadata": {
        "colab": {
          "base_uri": "https://localhost:8080/"
        },
        "id": "UuMW37qnvIBJ",
        "outputId": "b8d91ecc-681e-4a56-f241-804e19d5609e"
      },
      "outputs": [
        {
          "output_type": "stream",
          "name": "stdout",
          "text": [
            "Model: \"BrainTumorDetection\"\n",
            "_________________________________________________________________\n",
            " Layer (type)                Output Shape              Param #   \n",
            "=================================================================\n",
            " input_1 (InputLayer)        [(None, 240, 240, 3)]     0         \n",
            "                                                                 \n",
            " zero_padding2d (ZeroPadding  (None, 244, 244, 3)      0         \n",
            " 2D)                                                             \n",
            "                                                                 \n",
            " bn0 (BatchNormalization)    (None, 244, 244, 3)       12        \n",
            "                                                                 \n",
            " activation (Activation)     (None, 244, 244, 3)       0         \n",
            "                                                                 \n",
            " conv2 (Conv2D)              (None, 238, 238, 128)     18944     \n",
            "                                                                 \n",
            " max_pool2 (MaxPooling2D)    (None, 59, 59, 128)       0         \n",
            "                                                                 \n",
            " conv1 (Conv2D)              (None, 53, 53, 64)        401472    \n",
            "                                                                 \n",
            " max_pool1 (MaxPooling2D)    (None, 13, 13, 64)        0         \n",
            "                                                                 \n",
            " conv0 (Conv2D)              (None, 7, 7, 32)          100384    \n",
            "                                                                 \n",
            " max_pool0 (MaxPooling2D)    (None, 1, 1, 32)          0         \n",
            "                                                                 \n",
            " flatten (Flatten)           (None, 32)                0         \n",
            "                                                                 \n",
            " dense (Dense)               (None, 16)                528       \n",
            "                                                                 \n",
            " fc (Dense)                  (None, 1)                 17        \n",
            "                                                                 \n",
            "=================================================================\n",
            "Total params: 521,357\n",
            "Trainable params: 521,351\n",
            "Non-trainable params: 6\n",
            "_________________________________________________________________\n",
            "None\n"
          ]
        }
      ],
      "source": [
        "print(model.summary())"
      ]
    },
    {
      "cell_type": "code",
      "execution_count": 9,
      "metadata": {
        "colab": {
          "base_uri": "https://localhost:8080/"
        },
        "id": "HqJuHhMQvIBK",
        "outputId": "0d287ef5-893c-4cc9-a772-e49c282796ee"
      },
      "outputs": [
        {
          "output_type": "stream",
          "name": "stdout",
          "text": [
            "Epoch 1/10\n",
            "49/49 [==============================] - 604s 12s/step - loss: 0.9251 - accuracy: 0.6205 - val_loss: 0.5840 - val_accuracy: 0.6839\n",
            "Epoch 2/10\n",
            "49/49 [==============================] - 616s 13s/step - loss: 0.4932 - accuracy: 0.7705 - val_loss: 0.5487 - val_accuracy: 0.7184\n",
            "Epoch 3/10\n",
            "49/49 [==============================] - 608s 12s/step - loss: 0.3793 - accuracy: 0.8276 - val_loss: 0.4537 - val_accuracy: 0.7586\n",
            "Epoch 4/10\n",
            "49/49 [==============================] - 597s 12s/step - loss: 0.3512 - accuracy: 0.8551 - val_loss: 0.3993 - val_accuracy: 0.8218\n",
            "Epoch 5/10\n",
            "49/49 [==============================] - 600s 12s/step - loss: 0.2894 - accuracy: 0.8788 - val_loss: 0.4397 - val_accuracy: 0.7816\n",
            "Epoch 6/10\n",
            "49/49 [==============================] - 594s 12s/step - loss: 0.2524 - accuracy: 0.8910 - val_loss: 0.3929 - val_accuracy: 0.8046\n",
            "Epoch 7/10\n",
            "49/49 [==============================] - 596s 12s/step - loss: 0.2073 - accuracy: 0.9186 - val_loss: 0.3386 - val_accuracy: 0.8678\n",
            "Epoch 8/10\n",
            "49/49 [==============================] - 598s 12s/step - loss: 0.1528 - accuracy: 0.9359 - val_loss: 0.2637 - val_accuracy: 0.9023\n",
            "Epoch 9/10\n",
            "49/49 [==============================] - 596s 12s/step - loss: 0.0842 - accuracy: 0.9692 - val_loss: 0.3276 - val_accuracy: 0.8678\n",
            "Epoch 10/10\n",
            "49/49 [==============================] - 596s 12s/step - loss: 0.0629 - accuracy: 0.9788 - val_loss: 0.4800 - val_accuracy: 0.8678\n"
          ]
        }
      ],
      "source": [
        "history = model.fit(x=xtrain, y=ytrain, batch_size=32, epochs=10,callbacks=[mcp_save,earlyStopping],validation_split=0.10)"
      ]
    },
    {
      "cell_type": "code",
      "execution_count": 10,
      "metadata": {
        "id": "E6-PaokDvIBK",
        "colab": {
          "base_uri": "https://localhost:8080/"
        },
        "outputId": "c4faaa1e-2d89-4907-c375-e47e1a9b75a0"
      },
      "outputs": [
        {
          "output_type": "stream",
          "name": "stdout",
          "text": [
            "10/10 [==============================] - 29s 3s/step\n",
            "55/55 [==============================] - 156s 3s/step\n"
          ]
        }
      ],
      "source": [
        "test_pred = np.round(model.predict(xtest))\n",
        "train_pred = np.round(model.predict(xtrain))"
      ]
    },
    {
      "cell_type": "code",
      "execution_count": 11,
      "metadata": {
        "id": "MtYU6GAhvIBL"
      },
      "outputs": [],
      "source": [
        "def thres(pred):\n",
        "    output = []\n",
        "    for i in pred:\n",
        "        if i > 0.8:\n",
        "            output.append([1])\n",
        "        else:\n",
        "            output.append([0])\n",
        "    return output\n",
        "\n",
        "test_output = thres(test_pred)\n",
        "train_output = thres(train_pred)"
      ]
    },
    {
      "cell_type": "code",
      "execution_count": 12,
      "metadata": {
        "id": "CtWhmiouvIBL",
        "colab": {
          "base_uri": "https://localhost:8080/"
        },
        "outputId": "0bac50bb-1467-439f-a4a2-6af1c82b6600"
      },
      "outputs": [
        {
          "output_type": "stream",
          "name": "stdout",
          "text": [
            "Training Data Metrics\n",
            "[[779  54]\n",
            " [ 18 883]]\n",
            "0.9584775086505191\n",
            "Testing Data Metrics\n",
            "[[129  18]\n",
            " [ 15 144]]\n",
            "0.8921568627450981\n"
          ]
        }
      ],
      "source": [
        "print('Training Data Metrics')\n",
        "print(confusion_matrix(ytrain, train_output))\n",
        "print(accuracy_score(ytrain, train_output))\n",
        "print('Testing Data Metrics')\n",
        "print(confusion_matrix(ytest, test_output))\n",
        "print(accuracy_score(ytest, test_output))"
      ]
    },
    {
      "cell_type": "code",
      "execution_count": null,
      "metadata": {
        "id": "oVG1cJPR4O3T"
      },
      "outputs": [],
      "source": [
        "model.history"
      ]
    },
    {
      "cell_type": "code",
      "execution_count": 15,
      "metadata": {
        "id": "L7haHo8NvIBM"
      },
      "outputs": [],
      "source": [
        "model.save('BrainTumorModelv3_4colab.h5')"
      ]
    },
    {
      "cell_type": "code",
      "source": [
        "from matplotlib import pyplot as plt\n",
        "plt.plot(history.history['accuracy'])\n",
        "plt.plot(history.history['val_accuracy'])\n",
        "plt.title('model accuracy')\n",
        "plt.ylabel('accuracy')\n",
        "plt.xlabel('epoch')\n",
        "plt.legend(['train', 'val'], loc='upper left')\n",
        "plt.show()"
      ],
      "metadata": {
        "colab": {
          "base_uri": "https://localhost:8080/",
          "height": 295
        },
        "id": "p8S87ZgHmm6h",
        "outputId": "674afabe-26f1-47a8-f4d6-8368093d5ee3"
      },
      "execution_count": 13,
      "outputs": [
        {
          "output_type": "display_data",
          "data": {
            "text/plain": [
              "<Figure size 432x288 with 1 Axes>"
            ],
            "image/png": "[encoded data removed]"
          },
          "metadata": {
            "needs_background": "light"
          }
        }
      ]
    },
    {
      "cell_type": "code",
      "source": [
        "plt.plot(history.history['loss'])\n",
        "plt.plot(history.history['val_loss'])\n",
        "plt.title('model loss')\n",
        "plt.ylabel('loss')\n",
        "plt.xlabel('epoch')\n",
        "plt.legend(['train', 'val'], loc='upper left')\n",
        "plt.show()"
      ],
      "metadata": {
        "colab": {
          "base_uri": "https://localhost:8080/",
          "height": 295
        },
        "id": "_jDTZgmOmqgo",
        "outputId": "6bb54ee5-df8d-4048-8544-53c68bbf5235"
      },
      "execution_count": 14,
      "outputs": [
        {
          "output_type": "display_data",
          "data": {
            "text/plain": [
              "<Figure size 432x288 with 1 Axes>"
            ],
            "image/png": "[encoded data removed]"
          },
          "metadata": {
            "needs_background": "light"
          }
        }
      ]
    },
    {
      "cell_type": "code",
      "execution_count": null,
      "metadata": {
        "id": "9agyxaZIvIBM"
      },
      "outputs": [],
      "source": [
        "import cv2\n",
        "from keras.models import load_model\n",
        "import numpy as np\n",
        "model = load_model('BrainTumorModelv3_3colab.h5')\n",
        "# photo = cv2.resize(cv2.imread('aug_Y1_0_4205.jpg'), dsize=(240,240), interpolation=cv2.INTER_CUBIC)"
      ]
    },
    {
      "cell_type": "code",
      "execution_count": null,
      "metadata": {
        "id": "W7h9SjLHvIBM",
        "outputId": "bfd4ba96-2c3d-411a-8ed7-04f9a1ad2992"
      },
      "outputs": [
        {
          "name": "stdout",
          "output_type": "stream",
          "text": [
            "1/1 [==============================] - 0s 80ms/step\n"
          ]
        }
      ],
      "source": [
        "pred = np.round(model.predict(np.array([photo / 255.]))[0][0])\n",
        "if pred > 0.8:\n",
        "    output = 'Brain Tumor Detected'\n",
        "else:\n",
        "    output = 'There is no Brain Tumor'\n"
      ]
    },
    {
      "cell_type": "code",
      "execution_count": null,
      "metadata": {
        "id": "uws5NywpvIBN",
        "outputId": "f86b1bae-608a-4b23-868c-a5a61db2f97d"
      },
      "outputs": [
        {
          "data": {
            "text/plain": [
              "'Brain Tumor Detected'"
            ]
          },
          "execution_count": 9,
          "metadata": {},
          "output_type": "execute_result"
        }
      ],
      "source": [
        "output"
      ]
    },
    {
      "cell_type": "code",
      "execution_count": null,
      "metadata": {
        "id": "rAHMvRPKvIBN"
      },
      "outputs": [],
      "source": []
    }
  ],
  "metadata": {
    "colab": {
      "provenance": []
    },
    "kernelspec": {
      "display_name": "Python 3.9.2 64-bit",
      "language": "python",
      "name": "python3"
    },
    "language_info": {
      "codemirror_mode": {
        "name": "ipython",
        "version": 3
      },
      "file_extension": ".py",
      "mimetype": "text/x-python",
      "name": "python",
      "nbconvert_exporter": "python",
      "pygments_lexer": "ipython3",
      "version": "3.9.2"
    },
    "vscode": {
      "interpreter": {
        "hash": "8a69d6eb270ca49a2978a2d5ec9af1a30b33deb2c2c2bee40b09a6c42558e7ec"
      }
    }
  },
  "nbformat": 4,
  "nbformat_minor": 0
}